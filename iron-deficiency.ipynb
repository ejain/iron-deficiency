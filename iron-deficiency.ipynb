{
 "cells": [
  {
   "cell_type": "code",
   "execution_count": null,
   "metadata": {},
   "outputs": [],
   "source": [
    "import altair as alt\n",
    "import numpy as np\n",
    "import os\n",
    "import pandas as pd"
   ]
  },
  {
   "cell_type": "code",
   "execution_count": null,
   "metadata": {},
   "outputs": [],
   "source": [
    "tz = \"America/Los_Angeles\""
   ]
  },
  {
   "cell_type": "code",
   "execution_count": null,
   "metadata": {},
   "outputs": [],
   "source": [
    "donations = pd.read_csv(\"data/donations.csv\", parse_dates=[\"timestamp\"])\n",
    "donations[\"timestamp\"] = pd.to_datetime(donations[\"timestamp\"], utc=True).dt.tz_convert(tz)\n",
    "donations.tail(10)"
   ]
  },
  {
   "cell_type": "code",
   "execution_count": null,
   "metadata": {},
   "outputs": [],
   "source": [
    "tests = pd.read_csv(\"data/tests.csv\")\n",
    "tests[\"timestamp\"] = pd.to_datetime(tests[\"timestamp\"], utc=True).dt.tz_convert(tz)\n",
    "tests.tail(10)"
   ]
  },
  {
   "cell_type": "code",
   "execution_count": null,
   "metadata": {},
   "outputs": [],
   "source": [
    "events = pd.merge(tests, donations, how=\"outer\", on=[\"timestamp\"])"
   ]
  },
  {
   "cell_type": "code",
   "execution_count": null,
   "metadata": {},
   "outputs": [],
   "source": [
    "def plot_test(events, test_name, reference_range):\n",
    "    timeline = alt.Chart(events).encode(\n",
    "        alt.X(\"timestamp:T\", axis=alt.Axis(title=None))\n",
    "    ).properties(\n",
    "        width = 700,\n",
    "        height = 150\n",
    "    )\n",
    "\n",
    "    values_chart = timeline.mark_point(opacity=0.8).encode(\n",
    "        alt.Y(\"value:Q\", scale = alt.Scale(zero=True), title=test_name),\n",
    "        tooltip=[alt.Tooltip(\"timestamp:T\", format=\"%x %X\"), \"value:Q\"]\n",
    "    ).transform_filter(\n",
    "        f'datum.test == \"{test_name}\"'\n",
    "    )  \n",
    "\n",
    "    donations_chart = timeline.mark_rule(color=\"black\", opacity=0.8, strokeDash=[1, 1]).encode(\n",
    "        tooltip=[\"timestamp:T\"],\n",
    "        size=alt.value(2)\n",
    "    ).transform_filter(\n",
    "        alt.datum.quantity > 0\n",
    "    )\n",
    "\n",
    "    reference_range_chart = alt.Chart().mark_rect(opacity=0.1, color=\"gray\").encode(\n",
    "        alt.Y(\"lower:Q\"),\n",
    "        alt.Y2(\"upper:Q\")\n",
    "    ).transform_calculate(lower=str(reference_range[0]), upper=str(reference_range[1]))\n",
    "\n",
    "    return alt.layer(reference_range_chart, donations_chart, values_chart)"
   ]
  },
  {
   "cell_type": "code",
   "execution_count": null,
   "metadata": {},
   "outputs": [],
   "source": [
    "iron_total = plot_test(events, \"Iron, Total (ug/dL)\", (50, 180))\n",
    "iron_binding_capacity = plot_test(events, \"Iron Binding Capacity (ug/dL)\", (250, 425))\n",
    "iron_saturation = plot_test(events, \"Iron Saturation (%)\", (20, 48))\n",
    "ferritin = plot_test(events, \"Ferritin (ng/mL)\", (38, 380))\n",
    "hg = plot_test(events, \"Hemoglobin (g/dL)\", (13.2, 17.1))\n",
    "alt.vconcat(iron_total, iron_binding_capacity, ferritin, hg).resolve_scale(\n",
    "    x=\"shared\"\n",
    ")"
   ]
  },
  {
   "cell_type": "code",
   "execution_count": null,
   "metadata": {},
   "outputs": [],
   "source": []
  }
 ],
 "metadata": {
  "kernelspec": {
   "display_name": "Python 3.8.13 ('body-temperature')",
   "language": "python",
   "name": "python3"
  },
  "language_info": {
   "codemirror_mode": {
    "name": "ipython",
    "version": 3
   },
   "file_extension": ".py",
   "mimetype": "text/x-python",
   "name": "python",
   "nbconvert_exporter": "python",
   "pygments_lexer": "ipython3",
   "version": "3.11.0"
  },
  "vscode": {
   "interpreter": {
    "hash": "5e42fc76c2e63ce74b67028016ac4030400fa14c93578560bf36d8a37b1f9b2a"
   }
  }
 },
 "nbformat": 4,
 "nbformat_minor": 4
}
